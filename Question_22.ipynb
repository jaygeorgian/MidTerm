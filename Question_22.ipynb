{
 "cells": [
  {
   "cell_type": "code",
   "execution_count": 4,
   "id": "64753c16",
   "metadata": {},
   "outputs": [],
   "source": [
    "#Connecting to the server\n",
    "import sqlite3\n",
    "\n",
    "connection = sqlite3.connect('WeatherDatabase.db')\n",
    "cursor = connection.cursor()"
   ]
  },
  {
   "cell_type": "code",
   "execution_count": 5,
   "id": "a4257e0c",
   "metadata": {},
   "outputs": [
    {
     "data": {
      "text/plain": [
       "<sqlite3.Cursor at 0x21f6d085dc0>"
      ]
     },
     "execution_count": 5,
     "metadata": {},
     "output_type": "execute_result"
    }
   ],
   "source": [
    "#Creating the table\n",
    "\n",
    "query = '''\n",
    "    CREATE TABLE Weather_Tbl (\n",
    "        id INTEGER PRIMARY KEY,\n",
    "        recordDate DATE,\n",
    "        temperature INTEGER\n",
    "    )\n",
    "'''\n",
    "\n",
    "cursor.execute(query)"
   ]
  },
  {
   "cell_type": "code",
   "execution_count": 6,
   "id": "a555af46",
   "metadata": {},
   "outputs": [],
   "source": [
    "#Inserting data into the table\n",
    "query = '''\n",
    "    INSERT INTO Weather_Tbl (id, recordDate, temperature)\n",
    "    VALUES (?, ?, ?)\n",
    "'''\n",
    "\n",
    "rows = [\n",
    "    (1, '2015-01-01', 10),\n",
    "    (2, '2015-01-02', 25),\n",
    "    (3, '2015-01-03', 20),\n",
    "    (4, '2015-01-04', 30)\n",
    "]\n",
    "\n",
    "cursor.executemany(query, rows)\n",
    "\n",
    "connection.commit()\n",
    "connection.close()"
   ]
  },
  {
   "cell_type": "code",
   "execution_count": 11,
   "id": "eafb9753",
   "metadata": {},
   "outputs": [
    {
     "name": "stdout",
     "output_type": "stream",
     "text": [
      "(1, '2015-01-01', 10)\n",
      "(2, '2015-01-02', 25)\n",
      "(3, '2015-01-03', 20)\n",
      "(4, '2015-01-04', 30)\n"
     ]
    }
   ],
   "source": [
    "#Displaying the table\n",
    "connection = sqlite3.connect('WeatherDatabase.db')\n",
    "cursor = connection.cursor()\n",
    "\n",
    "query = \"SELECT * FROM Weather_Tbl\"\n",
    "\n",
    "cursor.execute(query)\n",
    "\n",
    "rows = cursor.fetchall()\n",
    "for row in rows:\n",
    "    print(row)\n",
    "\n",
    "connection.close()"
   ]
  },
  {
   "cell_type": "code",
   "execution_count": 16,
   "id": "4cabc19d",
   "metadata": {},
   "outputs": [
    {
     "name": "stdout",
     "output_type": "stream",
     "text": [
      "id\n",
      "----\n",
      "2\n",
      "4\n"
     ]
    }
   ],
   "source": [
    "#Finding all dates' Id with higher temperatures compared to its previous dates (yesterday).\n",
    "\n",
    "connection = sqlite3.connect('WeatherDatabase.db')\n",
    "cursor = connection.cursor()\n",
    "\n",
    "query = '''\n",
    "    SELECT w.id\n",
    "    FROM Weather_Tbl w\n",
    "    WHERE w.temperature > (\n",
    "        SELECT temperature\n",
    "        FROM Weather\n",
    "        WHERE recordDate = date(w.recordDate, '-1 day')\n",
    "    )\n",
    "'''\n",
    "\n",
    "cursor.execute(query)\n",
    "\n",
    "rows = cursor.fetchall()\n",
    "print(\"id\")\n",
    "print(\"----\")\n",
    "for row in rows:\n",
    "    print(row[0])\n",
    "\n",
    "connection.close()"
   ]
  }
 ],
 "metadata": {
  "kernelspec": {
   "display_name": "Python 3 (ipykernel)",
   "language": "python",
   "name": "python3"
  },
  "language_info": {
   "codemirror_mode": {
    "name": "ipython",
    "version": 3
   },
   "file_extension": ".py",
   "mimetype": "text/x-python",
   "name": "python",
   "nbconvert_exporter": "python",
   "pygments_lexer": "ipython3",
   "version": "3.9.12"
  }
 },
 "nbformat": 4,
 "nbformat_minor": 5
}
